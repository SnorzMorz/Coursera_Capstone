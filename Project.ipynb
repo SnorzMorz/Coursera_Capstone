{
  "nbformat": 4,
  "nbformat_minor": 0,
  "metadata": {
    "kernelspec": {
      "name": "python3",
      "display_name": "Python 3.6",
      "language": "python"
    },
    "language_info": {
      "name": "python",
      "version": "3.6.9",
      "mimetype": "text/x-python",
      "codemirror_mode": {
        "name": "ipython",
        "version": 3
      },
      "pygments_lexer": "ipython3",
      "nbconvert_exporter": "python",
      "file_extension": ".py"
    },
    "colab": {
      "name": "Project.ipynb",
      "provenance": [],
      "toc_visible": true
    }
  },
  "cells": [
    {
      "cell_type": "markdown",
      "metadata": {
        "id": "ByAURAX2Uczu",
        "colab_type": "text"
      },
      "source": [
        "# Capstone Project - Predicting Car Accident Severity in Seattle\n",
        "### Applied Data Science Capstone by IBM/Coursera"
      ]
    },
    {
      "cell_type": "markdown",
      "metadata": {
        "id": "iKFr_oGCVVQ-",
        "colab_type": "text"
      },
      "source": [
        "## Introduction: Business Problem <a name=\"introduction\"></a>"
      ]
    },
    {
      "cell_type": "markdown",
      "metadata": {
        "id": "-1P_kx5c2K9N",
        "colab_type": "text"
      },
      "source": [
        "In this project i will try to predict the severity of a car in Seattle crash using a collision dataset. This report will be targeted to stakeholders intreseted in predicting the outcome of a car crash, for example The Seattle Polcie Department.\n",
        "\n",
        "The severiy of a car crash can split into two groups - Property Damage only and Injury Collission. These are idetfied as 1 and 2 respectevly in the dataset.\n",
        "\n",
        "i will use my data science knowldge that Ive gained for mthe course and outside matreials to make a Machine Learning model wit haccuracy high enough to be useful for the stakeholders."
      ]
    },
    {
      "cell_type": "markdown",
      "metadata": {
        "id": "bjjkD9RW_vGT",
        "colab_type": "text"
      },
      "source": [
        "## Data"
      ]
    },
    {
      "cell_type": "markdown",
      "metadata": {
        "id": "Hir5NcT-_zj3",
        "colab_type": "text"
      },
      "source": [
        ""
      ]
    },
    {
      "cell_type": "code",
      "metadata": {
        "id": "vqVLHA5Tye0V",
        "colab_type": "code",
        "colab": {}
      },
      "source": [
        "#Import libraries\n",
        "import pandas as pd\n",
        "import numpy as np\n",
        "from sklearn.model_selection import train_test_split\n",
        "from sklearn.compose import ColumnTransformer\n",
        "from sklearn.pipeline import Pipeline\n",
        "from sklearn.impute import SimpleImputer\n",
        "from sklearn.preprocessing import OneHotEncoder\n",
        "from sklearn.metrics import mean_absolute_error\n",
        "from xgboost import XGBClassifier\n",
        "from sklearn.model_selection import GridSearchCV\n",
        "from sklearn.model_selection import StratifiedKFold\n",
        "import matplotlib\n",
        "import matplotlib.pyplot as plt\n",
        "%matplotlib inline\n",
        "plt.style.use('ggplot')\n",
        "\n",
        "\n"
      ],
      "execution_count": 20,
      "outputs": []
    },
    {
      "cell_type": "code",
      "metadata": {
        "id": "eR1UxD44ye0g",
        "colab_type": "code",
        "colab": {
          "base_uri": "https://localhost:8080/",
          "height": 71
        },
        "outputId": "ea3fea0e-1175-45d5-f41e-b457af286b23"
      },
      "source": [
        "#Import dataset\n",
        "df = pd.read_csv(\"/content/Data-Collisions.csv\")\n",
        "\n",
        "#Set OBJECTID as Index for convienience\n",
        "df.set_index(\"OBJECTID\");\n"
      ],
      "execution_count": 21,
      "outputs": [
        {
          "output_type": "stream",
          "text": [
            "/usr/local/lib/python3.6/dist-packages/IPython/core/interactiveshell.py:2718: DtypeWarning: Columns (33) have mixed types.Specify dtype option on import or set low_memory=False.\n",
            "  interactivity=interactivity, compiler=compiler, result=result)\n"
          ],
          "name": "stderr"
        }
      ]
    },
    {
      "cell_type": "markdown",
      "metadata": {
        "id": "Kc82r9thi1CO",
        "colab_type": "text"
      },
      "source": [
        "Based on my inution the information that is knonwn when an a collison is reported are:\n",
        "\n",
        "* ADDRTYPE - Collision location: Alley, Block or Intersection\n",
        "* \n",
        "* distance of neighborhood from city center\n",
        "\n"
      ]
    },
    {
      "cell_type": "code",
      "metadata": {
        "id": "57jQNpTiix_f",
        "colab_type": "code",
        "colab": {}
      },
      "source": [
        "columns_new = ['SEVERITYCODE', 'ADDRTYPE', 'COLLISIONTYPE','PERSONCOUNT', 'VEHCOUNT', 'JUNCTIONTYPE', 'WEATHER', 'ROADCOND', 'LIGHTCOND', 'HITPARKEDCAR']\n",
        "\n",
        "df_new = df[columns_new]"
      ],
      "execution_count": 22,
      "outputs": []
    },
    {
      "cell_type": "code",
      "metadata": {
        "id": "6LsL9IyPIHif",
        "colab_type": "code",
        "colab": {
          "base_uri": "https://localhost:8080/",
          "height": 394
        },
        "outputId": "9fd46415-a339-4b12-a0e1-0f2be8ef2944"
      },
      "source": [
        "df_new.dropna(axis=0, subset=['SEVERITYCODE'], inplace=True)\n",
        "y = df_new.SEVERITYCODE\n",
        "df_new.drop(['SEVERITYCODE'], axis=1, inplace=True)\n",
        "\n",
        "dataTypeSeries = df_new.dtypes\n",
        "print('Data type of each column of Dataframe :')\n",
        "print(dataTypeSeries)"
      ],
      "execution_count": 23,
      "outputs": [
        {
          "output_type": "stream",
          "text": [
            "Data type of each column of Dataframe :\n",
            "ADDRTYPE         object\n",
            "COLLISIONTYPE    object\n",
            "PERSONCOUNT       int64\n",
            "VEHCOUNT          int64\n",
            "JUNCTIONTYPE     object\n",
            "WEATHER          object\n",
            "ROADCOND         object\n",
            "LIGHTCOND        object\n",
            "HITPARKEDCAR     object\n",
            "dtype: object\n"
          ],
          "name": "stdout"
        },
        {
          "output_type": "stream",
          "text": [
            "/usr/local/lib/python3.6/dist-packages/ipykernel_launcher.py:1: SettingWithCopyWarning: \n",
            "A value is trying to be set on a copy of a slice from a DataFrame\n",
            "\n",
            "See the caveats in the documentation: https://pandas.pydata.org/pandas-docs/stable/user_guide/indexing.html#returning-a-view-versus-a-copy\n",
            "  \"\"\"Entry point for launching an IPython kernel.\n",
            "/usr/local/lib/python3.6/dist-packages/pandas/core/frame.py:3997: SettingWithCopyWarning: \n",
            "A value is trying to be set on a copy of a slice from a DataFrame\n",
            "\n",
            "See the caveats in the documentation: https://pandas.pydata.org/pandas-docs/stable/user_guide/indexing.html#returning-a-view-versus-a-copy\n",
            "  errors=errors,\n"
          ],
          "name": "stderr"
        }
      ]
    },
    {
      "cell_type": "markdown",
      "metadata": {
        "id": "qQ2hSELejUYV",
        "colab_type": "text"
      },
      "source": [
        ""
      ]
    },
    {
      "cell_type": "code",
      "metadata": {
        "id": "NIpw4aPUhd8z",
        "colab_type": "code",
        "colab": {}
      },
      "source": [
        "X_train_full, X_valid_full, y_train, y_valid = train_test_split(df_new, y, train_size=0.8, test_size=0.2,\n",
        "                                                                random_state=0)"
      ],
      "execution_count": 24,
      "outputs": []
    },
    {
      "cell_type": "markdown",
      "metadata": {
        "id": "ughLAffwjV2i",
        "colab_type": "text"
      },
      "source": [
        ""
      ]
    },
    {
      "cell_type": "code",
      "metadata": {
        "id": "CMvOBb6Mhr2W",
        "colab_type": "code",
        "colab": {}
      },
      "source": [
        "low_cardinality_cols = [cname for cname in X_train_full.columns if X_train_full[cname].nunique() < 10 and \n",
        "                        X_train_full[cname].dtype == \"object\"]\n",
        "\n",
        "# Select numeric columns\n",
        "numeric_cols = [cname for cname in X_train_full.columns if X_train_full[cname].dtype in ['int64', 'float64']]\n",
        "\n",
        "# Keep selected columns only\n",
        "my_cols = low_cardinality_cols + numeric_cols\n",
        "X_train = X_train_full[my_cols].copy()\n",
        "X_valid = X_valid_full[my_cols].copy()\n",
        "\n",
        "\n",
        "\n",
        "# One-hot encode the data (to shorten the code, we use pandas)\n",
        "X_train = pd.get_dummies(X_train_full)\n",
        "X_valid = pd.get_dummies(X_valid_full)\n",
        "X_train, X_valid = X_train.align(X_valid, join='left', axis=1)"
      ],
      "execution_count": 27,
      "outputs": []
    },
    {
      "cell_type": "markdown",
      "metadata": {
        "id": "lX4CnVT8jgoG",
        "colab_type": "text"
      },
      "source": [
        ""
      ]
    },
    {
      "cell_type": "code",
      "metadata": {
        "id": "EEKqJ7p7Ln7g",
        "colab_type": "code",
        "colab": {
          "base_uri": "https://localhost:8080/",
          "height": 724
        },
        "outputId": "ff1367ae-8485-4bbf-83f1-ed6b1b87d6b5"
      },
      "source": [
        "\n",
        "model = XGBClassifier()\n",
        "n_estimators = [100, 200, 300, 400, 500]\n",
        "learning_rate = [0.0001, 0.001, 0.005, 0.01, 0.1]\n",
        "param_grid = dict(learning_rate=learning_rate, n_estimators=n_estimators)\n",
        "kfold = StratifiedKFold(n_splits=5, shuffle=True, random_state=7)\n",
        "grid_search = GridSearchCV(model, param_grid, scoring=\"neg_log_loss\", n_jobs=-1, cv=kfold)\n",
        "grid_result = grid_search.fit(X_train, y_train)\n",
        "# summarize results\n",
        "print(\"Best: %f using %s\" % (grid_result.best_score_, grid_result.best_params_))\n",
        "means = grid_result.cv_results_['mean_test_score']\n",
        "stds = grid_result.cv_results_['std_test_score']\n",
        "params = grid_result.cv_results_['params']\n",
        "for mean, stdev, param in zip(means, stds, params):\n",
        "\tprint(\"%f (%f) with: %r\" % (mean, stdev, param))\n",
        "# plot results\n",
        "scores = np.array(means).reshape(len(learning_rate), len(n_estimators))\n",
        "for i, value in enumerate(learning_rate):\n",
        "    plt.plot(n_estimators, scores[i], label='learning_rate: ' + str(value))\n",
        "plt.legend()\n",
        "plt.xlabel('n_estimators')\n",
        "plt.ylabel('Log Loss')\n",
        "plt.savefig('n_estimators_vs_learning_rate.png')\n",
        "plt.show()"
      ],
      "execution_count": 12,
      "outputs": [
        {
          "output_type": "stream",
          "text": [
            "Best: -0.518595 using {'learning_rate': 0.1, 'n_estimators': 300}\n",
            "-0.690300 (0.000034) with: {'learning_rate': 0.0001, 'n_estimators': 100}\n",
            "-0.687508 (0.000067) with: {'learning_rate': 0.0001, 'n_estimators': 200}\n",
            "-0.684772 (0.000099) with: {'learning_rate': 0.0001, 'n_estimators': 300}\n",
            "-0.682088 (0.000131) with: {'learning_rate': 0.0001, 'n_estimators': 400}\n",
            "-0.679457 (0.000163) with: {'learning_rate': 0.0001, 'n_estimators': 500}\n",
            "-0.667031 (0.000314) with: {'learning_rate': 0.001, 'n_estimators': 100}\n",
            "-0.645630 (0.000537) with: {'learning_rate': 0.001, 'n_estimators': 200}\n",
            "-0.628157 (0.000717) with: {'learning_rate': 0.001, 'n_estimators': 300}\n",
            "-0.613558 (0.000998) with: {'learning_rate': 0.001, 'n_estimators': 400}\n",
            "-0.601195 (0.001213) with: {'learning_rate': 0.001, 'n_estimators': 500}\n",
            "-0.601090 (0.001210) with: {'learning_rate': 0.005, 'n_estimators': 100}\n",
            "-0.563127 (0.001632) with: {'learning_rate': 0.005, 'n_estimators': 200}\n",
            "-0.546928 (0.001897) with: {'learning_rate': 0.005, 'n_estimators': 300}\n",
            "-0.538251 (0.002285) with: {'learning_rate': 0.005, 'n_estimators': 400}\n",
            "-0.532741 (0.002640) with: {'learning_rate': 0.005, 'n_estimators': 500}\n",
            "-0.563031 (0.001637) with: {'learning_rate': 0.01, 'n_estimators': 100}\n",
            "-0.538204 (0.002267) with: {'learning_rate': 0.01, 'n_estimators': 200}\n",
            "-0.529088 (0.002785) with: {'learning_rate': 0.01, 'n_estimators': 300}\n",
            "-0.524906 (0.002949) with: {'learning_rate': 0.01, 'n_estimators': 400}\n",
            "-0.522936 (0.003143) with: {'learning_rate': 0.01, 'n_estimators': 500}\n",
            "-0.519641 (0.003194) with: {'learning_rate': 0.1, 'n_estimators': 100}\n",
            "-0.518627 (0.003231) with: {'learning_rate': 0.1, 'n_estimators': 200}\n",
            "-0.518595 (0.003327) with: {'learning_rate': 0.1, 'n_estimators': 300}\n",
            "-0.518604 (0.003370) with: {'learning_rate': 0.1, 'n_estimators': 400}\n",
            "-0.518698 (0.003378) with: {'learning_rate': 0.1, 'n_estimators': 500}\n"
          ],
          "name": "stdout"
        },
        {
          "output_type": "display_data",
          "data": {
            "image/png": "[encoded data removed]",
            "text/plain": [
              "<Figure size 432x288 with 1 Axes>"
            ]
          },
          "metadata": {
            "tags": []
          }
        }
      ]
    },
    {
      "cell_type": "code",
      "metadata": {
        "id": "U0v2GzJtjr5y",
        "colab_type": "code",
        "colab": {
          "base_uri": "https://localhost:8080/",
          "height": 374
        },
        "outputId": "7ae905e6-b9de-494a-d6e1-d54ce5f855f3"
      },
      "source": [
        "# Calculate MAE\n",
        "model2 = XGBClassifier(learning_rate=0.1, n_estimators=300)\n",
        "model2.fit(X_train, y_train)\n",
        "predictions_1 = model2.predict(X_train, y_train)\n",
        "mae_1 = mean_absolute_error(predictions_1, y_train)\n",
        "\n",
        "print(\"Mean Absolute Error:\" , mae_1)\n",
        "\n",
        "#sklearn.metrics.r2_score(y_true, y_pred)"
      ],
      "execution_count": 29,
      "outputs": [
        {
          "output_type": "error",
          "ename": "ValueError",
          "evalue": "ignored",
          "traceback": [
            "\u001b[0;31m---------------------------------------------------------------------------\u001b[0m",
            "\u001b[0;31mValueError\u001b[0m                                Traceback (most recent call last)",
            "\u001b[0;32m<ipython-input-29-9d87143730de>\u001b[0m in \u001b[0;36m<module>\u001b[0;34m()\u001b[0m\n\u001b[1;32m      2\u001b[0m \u001b[0mmodel2\u001b[0m \u001b[0;34m=\u001b[0m \u001b[0mXGBClassifier\u001b[0m\u001b[0;34m(\u001b[0m\u001b[0mlearning_rate\u001b[0m\u001b[0;34m=\u001b[0m\u001b[0;36m0.1\u001b[0m\u001b[0;34m,\u001b[0m \u001b[0mn_estimators\u001b[0m\u001b[0;34m=\u001b[0m\u001b[0;36m300\u001b[0m\u001b[0;34m)\u001b[0m\u001b[0;34m\u001b[0m\u001b[0;34m\u001b[0m\u001b[0m\n\u001b[1;32m      3\u001b[0m \u001b[0mmodel2\u001b[0m\u001b[0;34m.\u001b[0m\u001b[0mfit\u001b[0m\u001b[0;34m(\u001b[0m\u001b[0mX_train\u001b[0m\u001b[0;34m,\u001b[0m \u001b[0my_train\u001b[0m\u001b[0;34m)\u001b[0m\u001b[0;34m\u001b[0m\u001b[0;34m\u001b[0m\u001b[0m\n\u001b[0;32m----> 4\u001b[0;31m \u001b[0mpredictions_1\u001b[0m \u001b[0;34m=\u001b[0m \u001b[0mmodel2\u001b[0m\u001b[0;34m.\u001b[0m\u001b[0mpredict\u001b[0m\u001b[0;34m(\u001b[0m\u001b[0mX_train\u001b[0m\u001b[0;34m,\u001b[0m \u001b[0my_train\u001b[0m\u001b[0;34m)\u001b[0m\u001b[0;34m\u001b[0m\u001b[0;34m\u001b[0m\u001b[0m\n\u001b[0m\u001b[1;32m      5\u001b[0m \u001b[0mmae_1\u001b[0m \u001b[0;34m=\u001b[0m \u001b[0mmean_absolute_error\u001b[0m\u001b[0;34m(\u001b[0m\u001b[0mpredictions_1\u001b[0m\u001b[0;34m,\u001b[0m \u001b[0my_train\u001b[0m\u001b[0;34m)\u001b[0m\u001b[0;34m\u001b[0m\u001b[0;34m\u001b[0m\u001b[0m\n\u001b[1;32m      6\u001b[0m \u001b[0;34m\u001b[0m\u001b[0m\n",
            "\u001b[0;32m/usr/local/lib/python3.6/dist-packages/xgboost/sklearn.py\u001b[0m in \u001b[0;36mpredict\u001b[0;34m(self, data, output_margin, ntree_limit, validate_features)\u001b[0m\n\u001b[1;32m    789\u001b[0m                                                  \u001b[0moutput_margin\u001b[0m\u001b[0;34m=\u001b[0m\u001b[0moutput_margin\u001b[0m\u001b[0;34m,\u001b[0m\u001b[0;34m\u001b[0m\u001b[0;34m\u001b[0m\u001b[0m\n\u001b[1;32m    790\u001b[0m                                                  \u001b[0mntree_limit\u001b[0m\u001b[0;34m=\u001b[0m\u001b[0mntree_limit\u001b[0m\u001b[0;34m,\u001b[0m\u001b[0;34m\u001b[0m\u001b[0;34m\u001b[0m\u001b[0m\n\u001b[0;32m--> 791\u001b[0;31m                                                  validate_features=validate_features)\n\u001b[0m\u001b[1;32m    792\u001b[0m         \u001b[0;32mif\u001b[0m \u001b[0moutput_margin\u001b[0m\u001b[0;34m:\u001b[0m\u001b[0;34m\u001b[0m\u001b[0;34m\u001b[0m\u001b[0m\n\u001b[1;32m    793\u001b[0m             \u001b[0;31m# If output_margin is active, simply return the scores\u001b[0m\u001b[0;34m\u001b[0m\u001b[0;34m\u001b[0m\u001b[0;34m\u001b[0m\u001b[0m\n",
            "\u001b[0;32m/usr/local/lib/python3.6/dist-packages/xgboost/core.py\u001b[0m in \u001b[0;36mpredict\u001b[0;34m(self, data, output_margin, ntree_limit, pred_leaf, pred_contribs, approx_contribs, pred_interactions, validate_features)\u001b[0m\n\u001b[1;32m   1270\u001b[0m         \"\"\"\n\u001b[1;32m   1271\u001b[0m         \u001b[0moption_mask\u001b[0m \u001b[0;34m=\u001b[0m \u001b[0;36m0x00\u001b[0m\u001b[0;34m\u001b[0m\u001b[0;34m\u001b[0m\u001b[0m\n\u001b[0;32m-> 1272\u001b[0;31m         \u001b[0;32mif\u001b[0m \u001b[0moutput_margin\u001b[0m\u001b[0;34m:\u001b[0m\u001b[0;34m\u001b[0m\u001b[0;34m\u001b[0m\u001b[0m\n\u001b[0m\u001b[1;32m   1273\u001b[0m             \u001b[0moption_mask\u001b[0m \u001b[0;34m|=\u001b[0m \u001b[0;36m0x01\u001b[0m\u001b[0;34m\u001b[0m\u001b[0;34m\u001b[0m\u001b[0m\n\u001b[1;32m   1274\u001b[0m         \u001b[0;32mif\u001b[0m \u001b[0mpred_leaf\u001b[0m\u001b[0;34m:\u001b[0m\u001b[0;34m\u001b[0m\u001b[0;34m\u001b[0m\u001b[0m\n",
            "\u001b[0;32m/usr/local/lib/python3.6/dist-packages/pandas/core/generic.py\u001b[0m in \u001b[0;36m__nonzero__\u001b[0;34m(self)\u001b[0m\n\u001b[1;32m   1477\u001b[0m     \u001b[0;32mdef\u001b[0m \u001b[0m__nonzero__\u001b[0m\u001b[0;34m(\u001b[0m\u001b[0mself\u001b[0m\u001b[0;34m)\u001b[0m\u001b[0;34m:\u001b[0m\u001b[0;34m\u001b[0m\u001b[0;34m\u001b[0m\u001b[0m\n\u001b[1;32m   1478\u001b[0m         raise ValueError(\n\u001b[0;32m-> 1479\u001b[0;31m             \u001b[0;34mf\"The truth value of a {type(self).__name__} is ambiguous. \"\u001b[0m\u001b[0;34m\u001b[0m\u001b[0;34m\u001b[0m\u001b[0m\n\u001b[0m\u001b[1;32m   1480\u001b[0m             \u001b[0;34m\"Use a.empty, a.bool(), a.item(), a.any() or a.all().\"\u001b[0m\u001b[0;34m\u001b[0m\u001b[0;34m\u001b[0m\u001b[0m\n\u001b[1;32m   1481\u001b[0m         )\n",
            "\u001b[0;31mValueError\u001b[0m: The truth value of a Series is ambiguous. Use a.empty, a.bool(), a.item(), a.any() or a.all()."
          ]
        }
      ]
    },
    {
      "cell_type": "code",
      "metadata": {
        "id": "59zl6k00pCxy",
        "colab_type": "code",
        "colab": {}
      },
      "source": [
        ""
      ],
      "execution_count": null,
      "outputs": []
    }
  ]
}